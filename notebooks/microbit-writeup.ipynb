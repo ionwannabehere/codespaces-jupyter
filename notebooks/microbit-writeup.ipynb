{
 "cells": [
  {
   "attachments": {},
   "cell_type": "markdown",
   "metadata": {},
   "source": [
    "## Table of Contents\n",
    "\n",
    "-----\n",
    "\n",
    "- [Buttons and Events](#buttons-and-events)\n",
    "  - [Event Handling](#event-handling)\n",
    "    - [Buttons](#buttons)\n",
    "      - [Ports / Gold Icon](#ports--gold-icon)\n",
    "    - [Event Handler](#event-handler)\n",
    "- \n",
    "\n",
    "---\n",
    "\n",
    "\n",
    "\n",
    "## Heading2\n"
   ]
  },
  {
   "attachments": {},
   "cell_type": "markdown",
   "metadata": {},
   "source": [
    "## Buttons and Events"
   ]
  },
  {
   "attachments": {},
   "cell_type": "markdown",
   "metadata": {},
   "source": [
    "### Event Handling"
   ]
  },
  {
   "attachments": {},
   "cell_type": "markdown",
   "metadata": {},
   "source": [
    "#### Buttons\n",
    "Buttons are set up in correspondence with the Event Handling, each button is given a specific variable to prevent continous input, and will switch off once it has been released.  "
   ]
  },
  {
   "cell_type": "code",
   "execution_count": null,
   "metadata": {},
   "outputs": [],
   "source": [
    "if button_a.is_pressed():\n",
    "    if not aAct:\n",
    "        aAct = True\n",
    "        eventHandList.append(\"A\")\n",
    "else:\n",
    "    if aAct:\n",
    "        aAct = False"
   ]
  },
  {
   "attachments": {},
   "cell_type": "markdown",
   "metadata": {},
   "source": [
    "The button, when activated adds their identifier to the eventHandList to be processed, in this case we appended \"A\" to the Event Handle List."
   ]
  },
  {
   "attachments": {},
   "cell_type": "markdown",
   "metadata": {},
   "source": [
    "##### Ports / Gold Icon\n",
    "These are sightly different due to them having the ability to be active and deactived several times even though the user intended to only give one event. This is due to the sensors not being reliable and isn't a simple on/off input."
   ]
  },
  {
   "cell_type": "code",
   "execution_count": null,
   "metadata": {},
   "outputs": [],
   "source": [
    "if pin_logo.is_touched():\n",
    "    if not gAct:\n",
    "        gAct = True\n",
    "        eventHandList.append(\"G\")\n",
    "else:\n",
    "    if gAct:\n",
    "        gAct = False"
   ]
  },
  {
   "attachments": {},
   "cell_type": "markdown",
   "metadata": {},
   "source": [
    "Since this code still gives multiple inputs, in our Event Handling we have to remove all extra instances of these types of inputs."
   ]
  },
  {
   "cell_type": "code",
   "execution_count": null,
   "metadata": {},
   "outputs": [],
   "source": [
    "if eventHandList[0] == \"G\" or eventHandList[0] == \"P1\":\n",
    "    e = eventHandList[0]\n",
    "    clrR = True\n",
    "    while clrR:\n",
    "        if len(eventHandList) > 1:\n",
    "            if eventHandList[1] == e:\n",
    "                eventHandList.pop(1)\n",
    "            else:\n",
    "                clrR = False\n",
    "        else:\n",
    "            clrR = False"
   ]
  },
  {
   "attachments": {},
   "cell_type": "markdown",
   "metadata": {},
   "source": [
    "This code will first check if the first item of the eventHandList is either the gold button event or a Port 1 event\n",
    "\n",
    "**eventHandList = [\"G\", \"G\", \"G\", \"A\"]**\n",
    "\n",
    "Then it is going to set a while active loop with the variable \"clrR\". Then inside the loop if the length of the Event List is greater than 0 (if there isn't any other events afterwards). It checks if the second index (1) is also the same event, and if so it will delete that index, else if its not the same event it will stop the loop. Lastly if the length of the event handler is only 1 indext long it will also stop the loop for the event to be further processed.\n",
    "\n",
    "**eventHandList = [\"G\",\"A\"]**"
   ]
  },
  {
   "cell_type": "markdown",
   "metadata": {},
   "source": [
    "#### Event Handler\n"
   ]
  },
  {
   "attachments": {},
   "cell_type": "markdown",
   "metadata": {},
   "source": [
    "##### Input / Event Handling\n",
    "These are the conditions for the events, inputs, outputs, and others."
   ]
  },
  {
   "cell_type": "code",
   "execution_count": null,
   "metadata": {},
   "outputs": [],
   "source": [
    "if len(eventHandList) > 0:\n",
    "    nHrt = True\n",
    "    while nHrt:\n",
    "        if len(eventHandList) > 0:\n",
    "            if eventHandList[0] == \"G\" or eventHandList[0] == \"P1\":\n",
    "\n",
    "                #Clear extra port events\n",
    "                e = eventHandList[0]\n",
    "                clrR = True\n",
    "                while clrR:\n",
    "                    if len(eventHandList) > 1:\n",
    "                        if eventHandList[1] == e:\n",
    "                            eventHandList.pop(1)\n",
    "                        else:\n",
    "                            clrR = False\n",
    "                    else:\n",
    "                        clrR = False\n",
    "\n",
    "                # Menu Inputs\n",
    "                if menuA:\n",
    "\n",
    "                    # Menu, Gold Input\n",
    "                    if eventHandList[0] == \"G\":\n",
    "                        tabA = getattr(globalValues,\"tabA\")\n",
    "\n",
    "                        # Selected Tab is Settings\n",
    "                        if tabA == 0:\n",
    "                            menuA = False\n",
    "                            settA = True\n",
    "                            sleep(100)\n",
    "                            display.clear()\n",
    "                            settI()\n",
    "\n",
    "                        # Selected Tab is Pong\n",
    "                        if tabA == 1:\n",
    "                            menuA = False\n",
    "                            pongA = True\n",
    "                            sleep(100)\n",
    "                            display.clear()\n",
    "                            pongI()\n",
    "                else:\n",
    "\n",
    "                    # Any other program presses the Gold Input. Go to Menu.\n",
    "                    if eventHandList[0] == \"G\":\n",
    "                        pongA = False\n",
    "                        settA = False\n",
    "                        menuA = True\n",
    "                        sleep(100)\n",
    "                        display.clear()\n",
    "                        menuI()\n",
    "                    elif eventHandList[0] == \"P1\":\n",
    "                        if settA:\n",
    "                            settP1T()\n",
    "                eventHandList.pop(0)\n",
    "            else:\n",
    "\n",
    "                # Button Event Inputs\n",
    "                if eventHandList[0] == \"A\" or eventHandList[0] == \"B\":\n",
    "                    if eventHandList[0] == \"A\":\n",
    "\n",
    "                    # If process is active, fire corresponding process for the event.\n",
    "                        if pongA:\n",
    "                            pongABtn()\n",
    "                        elif menuA:\n",
    "                            menuABtn()\n",
    "                        elif settA:\n",
    "                            settABtn()\n",
    "\n",
    "                    elif eventHandList[0] == \"B\":\n",
    "                        if pongA:\n",
    "                            pongBBtn()\n",
    "                        elif menuA:\n",
    "                            menuBBtn()\n",
    "                        elif settA:\n",
    "                            settBBtn()\n",
    "                    eventHandList.pop(0)\n",
    "                else:\n",
    "                    #Hearbeat Call Action, Custom events that are on timers \n",
    "                    if pongA:\n",
    "                        pingHrt()\n",
    "\n",
    "                    # All front non-heartbeat events are cleared.\n",
    "                    nHrt = False\n",
    "        else:\n",
    "            nHrt = False"
   ]
  },
  {
   "attachments": {},
   "cell_type": "markdown",
   "metadata": {},
   "source": [
    "First, if there is any events in the event list, continue, Then it will create a while loop variable and clear out all inputs **instantanously**, where as custom Heartbeat events are handled differently. This is done incase it is needed for *sleeping during hearbeat* functions and to clear out input events faster than the heartbeat ones.\n",
    "\n",
    "We then clear out extra Pin / Gold events, this is further broken down in [this section](#ports--gold-icon)"
   ]
  },
  {
   "attachments": {},
   "cell_type": "markdown",
   "metadata": {},
   "source": [
    "##### Event List\n",
    "The event list is stated at the beginning of the code, in order to maintain scope. The variable is named eventHandList, and is an array.  \n",
    "\n",
    "`eventHandList = []`"
   ]
  }
 ],
 "metadata": {
  "language_info": {
   "name": "python"
  },
  "orig_nbformat": 4
 },
 "nbformat": 4,
 "nbformat_minor": 2
}

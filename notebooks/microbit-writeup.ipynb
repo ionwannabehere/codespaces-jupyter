{
 "cells": [
  {
   "attachments": {},
   "cell_type": "markdown",
   "metadata": {},
   "source": [
    "## Table of Contents\n",
    "\n",
    "-----\n",
    "\n",
    "- [Introduction](#introduction)\n",
    "  - [System Structure](#system-structure)\n",
    "- [Pong Game](#pong-game)\n",
    "  - [Pong Heartbeat](#pong-heartbeat)\n",
    "  - [Pong Buttons](#pong-buttons)\n",
    "  - [Pong Initialization](#pong-initialization)\n",
    "- [Menu System](#menu-system)\n",
    "- [Heartbeat Events](#heartbeat-events)\n",
    "- [Global Variables](#global-variables--variable-sharing)\n",
    "- [Buttons and Events](#buttons-and-events)\n",
    "  - [Event Handling](#event-handling)\n",
    "    - [Buttons](#buttons)\n",
    "      - [Ports / Gold Icon](#ports--gold-icon)\n",
    "    - [Event Handler](#event-handler)\n",
    "\n",
    "---\n",
    "  \n",
    "Full Code: https://github.com/ionwannabehere/Microbits/blob/main/main.py\n",
    "\n"
   ]
  },
  {
   "attachments": {},
   "cell_type": "markdown",
   "metadata": {},
   "source": [
    "## Introduction"
   ]
  },
  {
   "attachments": {},
   "cell_type": "markdown",
   "metadata": {},
   "source": [
    "### System Structure\n",
    "The type of system that you use for these type of process enumeration, and several process handling is important. As well as your event handling / input handling; since the way that code is structured each line is consecutive, and becomes a struggle when wanting several things to happen at once.\n",
    "The structure of my system is as follows:  \n",
    "\n",
    "EventList [\"Event 1\", \"Event 2\", \"Event 3\"]  \n",
    "\n",
    "```\n",
    "Events:\n",
    "    While True:\n",
    "        If event is active:\n",
    "            If event isnt already active:\n",
    "                Add to Event List  \n",
    "```\n",
    "Processes {\n",
    "    Menu,\n",
    "    Pong,\n",
    "    Settings\n",
    "}\n",
    "```\n",
    "Process Structure:  \n",
    "    ProcessInit():  \n",
    "        Clear Display  \n",
    "        Display Normal process  \n",
    "        Set variables  \n",
    "    ProcessButtonA():  \n",
    "        Grab global variables  \n",
    "        Change and process variables  \n",
    "        Display changes  \n",
    "        Set variables back  \n",
    "\n",
    "        \n",
    "Event Handling Structure:  \n",
    "    When I get event  \n",
    "        If Process is Active:  \n",
    "            ProcessButtonA()  \n",
    "\n",
    "Menu Structure:  \n",
    "    If process is active, and gold is touched:  \n",
    "        All processes off  \n",
    "        Wait for completion (100ms)  \n",
    "        Display Clear  \n",
    "        MenuInit()  \n",
    "    If Menu is Active, and gold is touched:  \n",
    "        Menu off  \n",
    "        Process On  \n",
    "        Wait for completion (100ms)  \n",
    "        Display clear  \n",
    "        ProcessInit()  \n",
    "```        "
   ]
  },
  {
   "attachments": {},
   "cell_type": "markdown",
   "metadata": {},
   "source": [
    "## Pong Game"
   ]
  },
  {
   "attachments": {},
   "cell_type": "markdown",
   "metadata": {},
   "source": [
    "### Pong Heartbeat"
   ]
  },
  {
   "attachments": {},
   "cell_type": "markdown",
   "metadata": {},
   "source": [
    "### Pong Buttons"
   ]
  },
  {
   "cell_type": "markdown",
   "metadata": {},
   "source": [
    "### Pong Initialization\n",
    "Each Process in this code structure is given a process Initialization function, this is required since these are not in any loop and would be laggy and bloated if conditions were in the loop.  "
   ]
  },
  {
   "cell_type": "code",
   "execution_count": null,
   "metadata": {},
   "outputs": [],
   "source": [
    "def pongI():\n",
    "    setattr(hrtValues,\"H\",0)\n",
    "    \n",
    "    r1 = random.randint(1,2)\n",
    "    r2 = random.randint(1,2)\n",
    "    ball = [r1,r2]\n",
    "    if random.choice([True, False]):\n",
    "        ballDir = -1\n",
    "    else:\n",
    "        ballDir = 1\n",
    "    ballRef = 1\n",
    "    display.set_pixel(r1,r2,5)\n",
    "    \n",
    "    plrD = 2\n",
    "    display.set_pixel(0,2,9)\n",
    "    display.set_pixel(0,3,9)\n",
    "    cmpD = 2\n",
    "    display.set_pixel(4,2,9)\n",
    "    display.set_pixel(4,3,9)\n",
    "    setattr(globalValues,\"ball\",ball)\n",
    "    setattr(globalValues,\"ballDir\",ballDir)\n",
    "    setattr(globalValues,\"ballRef\",ballRef)\n",
    "    setattr(globalValues,\"plrD\",plrD)\n",
    "    setattr(globalValues,\"cmpD\",cmpD)"
   ]
  },
  {
   "attachments": {},
   "cell_type": "markdown",
   "metadata": {},
   "source": [
    "## Menu System"
   ]
  },
  {
   "attachments": {},
   "cell_type": "markdown",
   "metadata": {},
   "source": [
    "## Heartbeat Events\n"
   ]
  },
  {
   "attachments": {},
   "cell_type": "markdown",
   "metadata": {},
   "source": [
    "Hearbeat events utilize the built in tick time, in order to find the difference in time frames to have the next hearbeat event to be fired. The syntax in question is `time.tick_ms()`, I made a function that will check if the next heartbeat function should be fired; this is called within the while loop at the end of the code."
   ]
  },
  {
   "cell_type": "code",
   "execution_count": null,
   "metadata": {},
   "outputs": [],
   "source": [
    "pongA = True\n",
    "\n",
    "class hrtValues:\n",
    "    pass\n",
    "\n",
    "def hrtFnCh(n,z):\n",
    "    if math.trunc((time.ticks_ms()/1000)*z) > getattr(hrtValues,n):\n",
    "        setattr(hrtValues,n,math.trunc((time.ticks_ms()/1000)*z))\n",
    "        eventHandList.append(n)\n",
    "\n",
    "def pongI():\n",
    "    setattr(hrtValues,\"H\",0)\n",
    "\n",
    "while True:\n",
    "    if pongA:\n",
    "        hrtFnCh(\"H\",3)"
   ]
  },
  {
   "attachments": {},
   "cell_type": "markdown",
   "metadata": {},
   "source": [
    "Firstly inorder to track the time difference between each event we save the heartbeat values inside of the class `hrtValues`. The function `hrtFnCh(n,z)` (or Heartbeat Function Check), is what checks if the heartbeat should be fired again, I am going to break it down here."
   ]
  },
  {
   "attachments": {},
   "cell_type": "markdown",
   "metadata": {},
   "source": [
    "The condtion `math.trunc((time.ticks_ms()/1000)*z) > getattr(hrtValues,n)`, does a few things, `time.ticks_ms()` returns the amount of time in milliseconds since the device has been booted: \n",
    "\n",
    "`5623`\n",
    "\n",
    "Firstly we divide by 1000 in order to break it into seconds, \n",
    "\n",
    "`5.623`\n",
    "\n",
    "This is pretty sufficent but incase we want to have the heartbeat function be greater than or less than 1 second but still in regards, like x0.5 (half second) x2 (2 seconds), we multiply this by the z componet [in our case 3 for \"H\"], \n",
    "\n",
    "`16.869`\n",
    "\n",
    "Now understand that since we are multiplying these together it is the opposite, 2 = 1/2 of a second, and 0.5 = 2 seconds. I could have fixed this inconvenience but since I was the only one using this code, and fixing would take more space I left it as is. Continuing we have `16.869`, we need to get rid of the decimals we use `math.trunc()` this rounds down the number towards 0, leaving us with \n",
    "\n",
    "`16`\n",
    "\n",
    "Finaly we take this number `16`, and if it is greater than `getattr(hrtValues,n)` (or the hearbeat value stored in hrtValues, our case it is `\"H\"`). and if so it will set the global value to the new heartbeat number, and lastly it will append the event name to the Event Hand List, to be processed."
   ]
  },
  {
   "attachments": {},
   "cell_type": "markdown",
   "metadata": {},
   "source": [
    "The rest of the code is self-explanatory, PongA is the boolean variable that is active when the process/game is active, the itialization of the game sets the global hearbeat value of `\"H\"` to 0, incase it was started from boot. And inside the while true loop, if pong is active, then it will run the heart function check; which checks if the hearbeat should be fired, and adds to the event list automatically due to the function."
   ]
  },
  {
   "attachments": {},
   "cell_type": "markdown",
   "metadata": {},
   "source": [
    "## Global Variables / Variable Sharing\n"
   ]
  },
  {
   "attachments": {},
   "cell_type": "markdown",
   "metadata": {},
   "source": [
    "Our \"global\" variables take 2 shapes. The way that functions are made in python, any variables stated before the function are known as global variables in our case we have `vol = 0`. it becomes apparent that we use it as a global variable since inside our setting function for the volume we have to state `global vol` this allows the function to grab this variable. Another way we use variables and variable sharing between functions is through classes, I used `class globalValues`, this isnt entirely required since if needed you can just state all your functions at the top of the code. I use classes in this case to have all the game variables in one place for better management."
   ]
  },
  {
   "attachments": {},
   "cell_type": "markdown",
   "metadata": {},
   "source": [
    "For this reason at the top of each button or input function we have to state `var = getattr(globalValues,\"var\")`\n",
    "this does 2 things, it grabs the variable var from globalValues.\n",
    "```\n",
    "class globalValues\n",
    "    var = 10  -----> returns\n",
    "    bar = 30\n",
    "    foo = 50\n",
    "```\n",
    "And sets this to our local variable, `var`, and we then use this variable and adjust it to our needs and at the end of the code, if needed we send it back to the class:\n",
    "\n",
    "`setattr(globalValues,\"tabA\",tabA)`\n",
    "\n",
    "There is a slight issue with this structure, since we initalize the variable, change it, and send it out, it adds a lot more code and questions the size of the code as a whole. However it also gives a pro, since we decide if we want to return the variable back or not, this gives us the extra mobility of having two thing being calculated consequtively and sent off as one. \n",
    "\n",
    "`[Calculate A] + [Calculate B] -> Display [A + B]`  \n",
    "\n",
    "Compared to the conventional\n",
    "\n",
    "[`Calculate A] -> Display [A], [Calculate B] -> Display [B]`."
   ]
  },
  {
   "attachments": {},
   "cell_type": "markdown",
   "metadata": {},
   "source": [
    "## Buttons and Events"
   ]
  },
  {
   "attachments": {},
   "cell_type": "markdown",
   "metadata": {},
   "source": [
    "### Event Handling"
   ]
  },
  {
   "attachments": {},
   "cell_type": "markdown",
   "metadata": {},
   "source": [
    "#### Buttons\n",
    "Buttons are set up in correspondence with the Event Handling, each button is given a specific variable to prevent continous input, and will switch off once it has been released.  "
   ]
  },
  {
   "cell_type": "code",
   "execution_count": null,
   "metadata": {},
   "outputs": [],
   "source": [
    "if button_a.is_pressed():\n",
    "    if not aAct:\n",
    "        aAct = True\n",
    "        eventHandList.append(\"A\")\n",
    "else:\n",
    "    if aAct:\n",
    "        aAct = False"
   ]
  },
  {
   "attachments": {},
   "cell_type": "markdown",
   "metadata": {},
   "source": [
    "The button, when activated adds their identifier to the eventHandList to be processed, in this case we appended \"A\" to the Event Handle List."
   ]
  },
  {
   "attachments": {},
   "cell_type": "markdown",
   "metadata": {},
   "source": [
    "##### Ports / Gold Icon\n",
    "These are sightly different due to them having the ability to be active and deactived several times even though the user intended to only give one event. This is due to the sensors not being reliable and isn't a simple on/off input."
   ]
  },
  {
   "cell_type": "code",
   "execution_count": null,
   "metadata": {},
   "outputs": [],
   "source": [
    "if pin_logo.is_touched():\n",
    "    if not gAct:\n",
    "        gAct = True\n",
    "        eventHandList.append(\"G\")\n",
    "else:\n",
    "    if gAct:\n",
    "        gAct = False"
   ]
  },
  {
   "attachments": {},
   "cell_type": "markdown",
   "metadata": {},
   "source": [
    "Since this code still gives multiple inputs, in our Event Handling we have to remove all extra instances of these types of inputs."
   ]
  },
  {
   "cell_type": "code",
   "execution_count": null,
   "metadata": {},
   "outputs": [],
   "source": [
    "if eventHandList[0] == \"G\" or eventHandList[0] == \"P1\":\n",
    "    e = eventHandList[0]\n",
    "    clrR = True\n",
    "    while clrR:\n",
    "        if len(eventHandList) > 1:\n",
    "            if eventHandList[1] == e:\n",
    "                eventHandList.pop(1)\n",
    "            else:\n",
    "                clrR = False\n",
    "        else:\n",
    "            clrR = False"
   ]
  },
  {
   "attachments": {},
   "cell_type": "markdown",
   "metadata": {},
   "source": [
    "This code will first check if the first item of the eventHandList is either the gold button event or a Port 1 event\n",
    "\n",
    "`eventHandList = [\"G\", \"G\", \"G\", \"A\"]`\n",
    "\n",
    "Then it is going to set a while active loop with the variable \"clrR\". Then inside the loop if the length of the Event List is greater than 0 (if there isn't any other events afterwards). It checks if the second index (1) is also the same event, and if so it will delete that index, else if its not the same event it will stop the loop. Lastly if the length of the event handler is only 1 indext long it will also stop the loop for the event to be further processed.\n",
    "\n",
    "`eventHandList = [\"G\",\"A\"]`"
   ]
  },
  {
   "cell_type": "markdown",
   "metadata": {},
   "source": [
    "#### Event Handler\n"
   ]
  },
  {
   "attachments": {},
   "cell_type": "markdown",
   "metadata": {},
   "source": [
    "##### Input / Event Handling\n",
    "These are the conditions for the events, inputs, outputs, and others."
   ]
  },
  {
   "cell_type": "code",
   "execution_count": null,
   "metadata": {},
   "outputs": [],
   "source": [
    "if len(eventHandList) > 0:\n",
    "    nHrt = True\n",
    "    while nHrt:\n",
    "        if len(eventHandList) > 0:\n",
    "            if eventHandList[0] == \"G\" or eventHandList[0] == \"P1\":\n",
    "\n",
    "                #Clear extra port events\n",
    "                e = eventHandList[0]\n",
    "                clrR = True\n",
    "                while clrR:\n",
    "                    if len(eventHandList) > 1:\n",
    "                        if eventHandList[1] == e:\n",
    "                            eventHandList.pop(1)\n",
    "                        else:\n",
    "                            clrR = False\n",
    "                    else:\n",
    "                        clrR = False\n",
    "\n",
    "                # Menu Inputs\n",
    "                if menuA:\n",
    "\n",
    "                    # Menu, Gold Input\n",
    "                    if eventHandList[0] == \"G\":\n",
    "                        tabA = getattr(globalValues,\"tabA\")\n",
    "\n",
    "                        # Selected Tab is Settings\n",
    "                        if tabA == 0:\n",
    "                            menuA = False\n",
    "                            settA = True\n",
    "                            sleep(100)\n",
    "                            display.clear()\n",
    "                            settI()\n",
    "\n",
    "                        # Selected Tab is Pong\n",
    "                        if tabA == 1:\n",
    "                            menuA = False\n",
    "                            pongA = True\n",
    "                            sleep(100)\n",
    "                            display.clear()\n",
    "                            pongI()\n",
    "                else:\n",
    "\n",
    "                    # Any other program presses the Gold Input. Go to Menu.\n",
    "                    if eventHandList[0] == \"G\":\n",
    "                        pongA = False\n",
    "                        settA = False\n",
    "                        menuA = True\n",
    "                        sleep(100)\n",
    "                        display.clear()\n",
    "                        menuI()\n",
    "                    elif eventHandList[0] == \"P1\":\n",
    "                        if settA:\n",
    "                            settP1T()\n",
    "                eventHandList.pop(0)\n",
    "            else:\n",
    "\n",
    "                # Button Event Inputs\n",
    "                if eventHandList[0] == \"A\" or eventHandList[0] == \"B\":\n",
    "                    if eventHandList[0] == \"A\":\n",
    "\n",
    "                    # If process is active, fire corresponding process for the event.\n",
    "                        if pongA:\n",
    "                            pongABtn()\n",
    "                        elif menuA:\n",
    "                            menuABtn()\n",
    "                        elif settA:\n",
    "                            settABtn()\n",
    "\n",
    "                    elif eventHandList[0] == \"B\":\n",
    "                        if pongA:\n",
    "                            pongBBtn()\n",
    "                        elif menuA:\n",
    "                            menuBBtn()\n",
    "                        elif settA:\n",
    "                            settBBtn()\n",
    "                    eventHandList.pop(0)\n",
    "                else:\n",
    "                    #Hearbeat Call Action, Custom events that are on timers \n",
    "                    if pongA:\n",
    "                        pingHrt()\n",
    "\n",
    "                    # All front non-heartbeat events are cleared.\n",
    "                    nHrt = False\n",
    "        else:\n",
    "            nHrt = False"
   ]
  },
  {
   "attachments": {},
   "cell_type": "markdown",
   "metadata": {},
   "source": [
    "First, if there is any events in the event list, continue, Then it will create a while loop variable and clear out all inputs **instantanously**, where as custom Heartbeat events are handled differently. This is done incase it is needed for *sleeping during hearbeat* functions and to clear out input events faster than the heartbeat ones.\n",
    "\n",
    "We then clear out extra Pin / Gold events, this is further broken down in [this section](#ports--gold-icon). Next the A and B buttons are handled next, I gave each process their own functions to handle each input. After each branch of conditions we then delete the first event to move onto the next.\n",
    "\n",
    "```\n",
    "pongABtn()\n",
    "pongBBtn()\n",
    "```\n",
    "\n",
    "If the event is not \"A\" or \"B\" or \"G\" or \"P1\", then it has to be a custom hearbeat event. Hearbeat Call Action, will fire if the process is active and the function `pingHrt()`, will be fired. And finally cleaned up by setting notHeart (nHrt) to false."
   ]
  },
  {
   "attachments": {},
   "cell_type": "markdown",
   "metadata": {},
   "source": [
    "##### Event List\n",
    "The event list is stated at the beginning of the code, in order to maintain scope. The variable is named eventHandList, and is an array.  \n",
    "\n",
    "`eventHandList = []`\n",
    "\n",
    "After each input it will append to the end of this list to be processed."
   ]
  }
 ],
 "metadata": {
  "language_info": {
   "name": "python"
  },
  "orig_nbformat": 4
 },
 "nbformat": 4,
 "nbformat_minor": 2
}
